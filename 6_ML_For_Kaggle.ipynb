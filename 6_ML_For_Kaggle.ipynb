{
 "cells": [
  {
   "cell_type": "code",
   "execution_count": null,
   "metadata": {},
   "outputs": [],
   "source": [
    "import pandas as pd"
   ]
  },
  {
   "cell_type": "code",
   "execution_count": null,
   "metadata": {},
   "outputs": [],
   "source": [
    "TRAIN_PATH = '/Users/awesome/Desktop/programming/MFTI/dlschool-fashionmnist3/fashion-mnist_train.csv'\n",
    "TEST_PATH = '/Users/awesome/Desktop/programming/MFTI/dlschool-fashionmnist3/fashion-mnist_test.csv'"
   ]
  },
  {
   "cell_type": "code",
   "execution_count": null,
   "metadata": {},
   "outputs": [],
   "source": [
    "train_df = pd.read_csv(TRAIN_PATH)\n",
    "test_df = pd.read_csv(TEST_PATH)"
   ]
  },
  {
   "cell_type": "code",
   "execution_count": null,
   "metadata": {},
   "outputs": [],
   "source": [
    "import numpy as np\n",
    "import matplotlib.pyplot as plt"
   ]
  },
  {
   "cell_type": "code",
   "execution_count": null,
   "metadata": {},
   "outputs": [],
   "source": [
    "train_df.head()"
   ]
  },
  {
   "cell_type": "code",
   "execution_count": null,
   "metadata": {},
   "outputs": [],
   "source": [
    "test_df.head()"
   ]
  },
  {
   "cell_type": "code",
   "execution_count": null,
   "metadata": {},
   "outputs": [],
   "source": [
    "X_train = train_df.values[:, 1:]\n",
    "y_train = train_df.values[:, 0]\n",
    "\n",
    "X_test = test_df.values"
   ]
  },
  {
   "cell_type": "code",
   "execution_count": null,
   "metadata": {},
   "outputs": [],
   "source": [
    "print(X_train.shape, y_train.shape)"
   ]
  },
  {
   "cell_type": "code",
   "execution_count": null,
   "metadata": {},
   "outputs": [],
   "source": [
    "plt.imshow(X_train[10].reshape(28, 28), cmap='gray');"
   ]
  },
  {
   "cell_type": "code",
   "execution_count": null,
   "metadata": {},
   "outputs": [],
   "source": [
    "import matplotlib.pyplot as plt\n",
    "import numpy as np\n",
    "\n",
    "import torch"
   ]
  },
  {
   "cell_type": "code",
   "execution_count": null,
   "metadata": {},
   "outputs": [],
   "source": [
    "X_train_tensor = torch.FloatTensor(X_train)\n",
    "y_train_tensor = torch.LongTensor(y_train.astype(np.int64))"
   ]
  },
  {
   "cell_type": "code",
   "execution_count": null,
   "metadata": {},
   "outputs": [],
   "source": [
    "print(X_train_tensor.shape, y_train_tensor.shape)"
   ]
  },
  {
   "cell_type": "code",
   "execution_count": null,
   "metadata": {},
   "outputs": [],
   "source": [
    "y_train_tensor.unique()"
   ]
  },
  {
   "cell_type": "code",
   "execution_count": null,
   "metadata": {},
   "outputs": [],
   "source": [
    "length = y_train_tensor.shape[0]\n",
    "num_classes = 10  # количество классов, в нашем случае 10 типов одежды\n",
    "\n",
    "# закодированные OneHot-ом метки классов\n",
    "y_onehot = torch.FloatTensor(length, num_classes)\n",
    "\n",
    "y_onehot.zero_()\n",
    "y_onehot.scatter_(1, y_train_tensor.view(-1, 1), 1)\n",
    "\n",
    "print(y_train_tensor)\n",
    "print(y_onehot)"
   ]
  },
  {
   "cell_type": "code",
   "execution_count": null,
   "metadata": {},
   "outputs": [],
   "source": [
    "# N - размер батча (batch_size, нужно для метода оптимизации)\n",
    "# D_in - размерность входа (количество признаков у объекта)\n",
    "# H - размерность скрытых слоёв; \n",
    "# D_out - размерность выходного слоя (суть - количество классов)\n",
    "D_in, H, D_out = 784, 10, 10\n",
    "\n",
    "# определим нейросеть:\n",
    "net = torch.nn.Sequential(\n",
    "    torch.nn.Linear(D_in, H),\n",
    "    torch.nn.ReLU(),\n",
    "    torch.nn.Linear(H, H),\n",
    "    torch.nn.ReLU(),\n",
    "    torch.nn.Linear(H, H),\n",
    "    torch.nn.ReLU(),\n",
    "    torch.nn.Linear(H, H),\n",
    "    torch.nn.ReLU(),\n",
    "    torch.nn.Linear(H, H),\n",
    "    torch.nn.ReLU(),\n",
    "    torch.nn.Linear(H, D_out),\n",
    "    torch.nn.Softmax()\n",
    ")"
   ]
  },
  {
   "cell_type": "code",
   "execution_count": null,
   "metadata": {},
   "outputs": [],
   "source": [
    "def generate_batches(X, y, batch_size=64):\n",
    "    for i in range(0, X.shape[0], batch_size):\n",
    "        X_batch, y_batch = X[i:i+batch_size], y[i:i+batch_size]\n",
    "        yield X_batch, y_batch"
   ]
  },
  {
   "cell_type": "code",
   "execution_count": null,
   "metadata": {},
   "outputs": [],
   "source": [
    "BATCH_SIZE = 32\n",
    "NUM_EPOCHS = 100\n",
    "\n",
    "loss_fn = torch.nn.CrossEntropyLoss(size_average=False)\n",
    "\n",
    "learning_rate = 0.001\n",
    "optimizer = torch.optim.Adam(net.parameters(), lr=learning_rate)\n",
    "\n",
    "for epoch_num  in range(NUM_EPOCHS):\n",
    "    iter_num = 0\n",
    "    running_loss = 0.0\n",
    "    for X_batch, y_batch in generate_batches(X_train_tensor, y_train_tensor, BATCH_SIZE):\n",
    "        # forward (подсчёт ответа с текущими весами)\n",
    "        y_pred = net(X_batch)\n",
    "\n",
    "        # вычисляем loss'ы\n",
    "        loss = loss_fn(y_pred, y_batch)\n",
    "        \n",
    "        running_loss += loss.item()\n",
    "        \n",
    "        # выводем качество каждые 2000 батчей\n",
    "            \n",
    "        if iter_num % 100 == 99:\n",
    "            print('[{}, {}] current loss: {}'.format(epoch_num, iter_num + 1, running_loss / 100))\n",
    "            running_loss = 0.0\n",
    "            \n",
    "        # зануляем градиенты\n",
    "        optimizer.zero_grad()\n",
    "\n",
    "        # backward (подсчёт новых градиентов)\n",
    "        loss.backward()\n",
    "\n",
    "        # обновляем веса\n",
    "        optimizer.step()\n",
    "        \n",
    "        iter_num += 1"
   ]
  },
  {
   "cell_type": "code",
   "execution_count": null,
   "metadata": {},
   "outputs": [],
   "source": [
    "class_correct = list(0. for i in range(10))\n",
    "class_total = list(0. for i in range(10))\n",
    "\n",
    "classes = ['T-shirt/top', 'Trouser', 'Pullover', 'Dress', 'Coat', \n",
    "           'Sandal', 'Shirt', 'Sneaker','Bag', 'Ankle boot']\n",
    "\n",
    "with torch.no_grad():\n",
    "    for X_batch, y_batch in generate_batches(X_train_tensor, y_train_tensor, BATCH_SIZE):\n",
    "        y_pred = net(X_batch)\n",
    "        _, predicted = torch.max(y_pred, 1)\n",
    "        c = (predicted == y_batch).squeeze()\n",
    "        for i in range(len(y_pred)):\n",
    "            label = y_batch[i]\n",
    "            class_correct[label] += c[i].item()\n",
    "            class_total[label] += 1\n",
    "\n",
    "\n",
    "for i in range(10):\n",
    "    print('Accuracy of %5s : %2d %%' % (\n",
    "        classes[i], 100 * class_correct[i] / class_total[i]))"
   ]
  },
  {
   "cell_type": "markdown",
   "metadata": {},
   "source": [
    "Accuracy of T-shirt/top : 90 %\n",
    "\n",
    "Accuracy of Trouser : 97 %\n",
    "\n",
    "Accuracy of Pullover : 82 %\n",
    "\n",
    "Accuracy of Dress : 92 %\n",
    "\n",
    "Accuracy of  Coat : 90 %\n",
    "\n",
    "Accuracy of Sandal : 98 %\n",
    "\n",
    "Accuracy of Shirt : 76 %\n",
    "\n",
    "Accuracy of Sneaker : 98 %\n",
    "\n",
    "Accuracy of   Bag : 98 %\n",
    "\n",
    "Accuracy of Ankle boot : 97 %"
   ]
  },
  {
   "cell_type": "code",
   "execution_count": null,
   "metadata": {},
   "outputs": [],
   "source": [
    "y_test_pred = net(torch.FloatTensor(X_test))"
   ]
  },
  {
   "cell_type": "code",
   "execution_count": null,
   "metadata": {},
   "outputs": [],
   "source": [
    "y_test_pred.shape"
   ]
  },
  {
   "cell_type": "code",
   "execution_count": null,
   "metadata": {},
   "outputs": [],
   "source": [
    "y_test_pred[:5]"
   ]
  },
  {
   "cell_type": "code",
   "execution_count": null,
   "metadata": {},
   "outputs": [],
   "source": [
    "_, predicted = torch.max(y_test_pred, 1)\n",
    "\n",
    "predicted"
   ]
  },
  {
   "cell_type": "code",
   "execution_count": null,
   "metadata": {},
   "outputs": [],
   "source": [
    "answer_df = pd.DataFrame(data=predicted.numpy(), columns=['Category'])\n",
    "answer_df.head()"
   ]
  },
  {
   "cell_type": "code",
   "execution_count": null,
   "metadata": {},
   "outputs": [],
   "source": [
    "answer_df['Id'] = answer_df.index"
   ]
  },
  {
   "cell_type": "code",
   "execution_count": null,
   "metadata": {},
   "outputs": [],
   "source": [
    "answer_df.head()"
   ]
  },
  {
   "cell_type": "code",
   "execution_count": null,
   "metadata": {},
   "outputs": [],
   "source": [
    "answer_df.tail()"
   ]
  },
  {
   "cell_type": "code",
   "execution_count": null,
   "metadata": {},
   "outputs": [],
   "source": [
    "answer_df.to_csv('/Users/awesome/Desktop/TEST_5.csv', index=False)"
   ]
  },
  {
   "cell_type": "code",
   "execution_count": null,
   "metadata": {},
   "outputs": [],
   "source": []
  }
 ],
 "metadata": {
  "kernelspec": {
   "display_name": "Python 3",
   "language": "python",
   "name": "python3"
  },
  "language_info": {
   "codemirror_mode": {
    "name": "ipython",
    "version": 3
   },
   "file_extension": ".py",
   "mimetype": "text/x-python",
   "name": "python",
   "nbconvert_exporter": "python",
   "pygments_lexer": "ipython3",
   "version": "3.7.4"
  }
 },
 "nbformat": 4,
 "nbformat_minor": 2
}
